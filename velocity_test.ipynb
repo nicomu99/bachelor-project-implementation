{
 "cells": [
  {
   "cell_type": "code",
   "execution_count": 2,
   "id": "initial_id",
   "metadata": {
    "ExecuteTime": {
     "end_time": "2024-01-24T09:49:04.142815Z",
     "start_time": "2024-01-24T09:49:03.660855Z"
    },
    "collapsed": true
   },
   "outputs": [],
   "source": [
    "import numpy as np\n",
    "import pandas as pd\n",
    "from scipy.stats import mode\n",
    "import sys\n",
    "\n",
    "sys.path.append('/home/nico/VSCodeRepos/SigMA/')\n",
    "from SigMA.SigMA import SigMA\n",
    "from NoiseRemoval.xd_special import XDSingleCluster\n",
    "from miscellaneous.covariance_trafo_sky2gal import transform_covariance_shper2gal\n",
    "from miscellaneous.error_sampler import ErrorSampler\n",
    "from generate_data import generate_data"
   ]
  },
  {
   "cell_type": "code",
   "execution_count": 3,
   "id": "1fb9f608c25b6533",
   "metadata": {
    "ExecuteTime": {
     "end_time": "2024-01-24T16:11:49.723369Z",
     "start_time": "2024-01-24T16:11:49.709797Z"
    },
    "collapsed": false
   },
   "outputs": [],
   "source": [
    "import plotly.graph_objects as go\n",
    "from plotly.subplots import make_subplots\n",
    "\n",
    "plt_colors = [\n",
    "    '#636EFA', '#EF553B', '#00CC96', '#AB63FA', '#FFA15A', '#19D3F3',\n",
    "    '#FF6692', '#B6E880', '#FF97FF', '#FECB52', '#B82E2E', '#316395'\n",
    "]\n",
    "\n",
    "def plot_3D_data(data, xyz_titles=['X', 'Y', 'Z'], ax_range=[-40, 40], labels=None):\n",
    "    fig = make_subplots(\n",
    "        rows=1, cols=1,\n",
    "        specs=[[{\"type\": \"scatter3d\"}]],\n",
    "        column_widths=[1],\n",
    "        subplot_titles=[\n",
    "            '3D', \n",
    "        ],\n",
    "    )\n",
    "    # --------------- 3D scatter plot -------------------\n",
    "    if labels is None:\n",
    "        trace_3d = go.Scatter3d(\n",
    "            x=data[:, 0], y=data[:, 1], z=data[:, 2],\n",
    "            mode='markers',\n",
    "            marker=dict(size=5, color='red'),\n",
    "            hoverinfo='none',\n",
    "            showlegend=False,\n",
    "        )\n",
    "        fig.add_trace(trace_3d, row=1, col=1)\n",
    "    else:\n",
    "        for l_i in np.unique(labels):\n",
    "            if l_i != -1:\n",
    "                trace_3d = go.Scatter3d(\n",
    "                    x=data.loc[labels==l_i, xyz_titles[0]], y=data.loc[labels==l_i, xyz_titles[1]], z=data.loc[labels==l_i, xyz_titles[2]],\n",
    "                    mode='markers',\n",
    "                    marker=dict(size=5, color=plt_colors[l_i%len(plt_colors)]),\n",
    "                    hoverinfo='none',\n",
    "                    showlegend=True,\n",
    "                    name=f'Cluster {l_i}'\n",
    "                )\n",
    "                fig.add_trace(trace_3d, row=1, col=1)\n",
    "    \n",
    "    # 3d position\n",
    "    plt_kwargs = dict(showbackground=False, showline=False, zeroline=True, zerolinecolor='grey', zerolinewidth=2, \n",
    "                      showgrid=True, showticklabels=True, color='black',\n",
    "                      linecolor='black', linewidth=1,  gridcolor='rgba(100,100,100,0.5)')\n",
    "\n",
    "    xaxis=dict(**plt_kwargs, title=xyz_titles[0], range=ax_range)\n",
    "    yaxis=dict(**plt_kwargs, title=xyz_titles[1], range=ax_range)\n",
    "    zaxis=dict(**plt_kwargs, title=xyz_titles[2], range=ax_range)\n",
    "\n",
    "    # Finalize layout\n",
    "    fig.update_layout(\n",
    "        title=\"\",\n",
    "        #width=800,\n",
    "        #height=800,\n",
    "        showlegend=True,\n",
    "        paper_bgcolor='rgba(0,0,0,0)',\n",
    "        plot_bgcolor='rgba(0,0,0,0)',\n",
    "        legend= dict(itemsizing='constant', font_color='black'),\n",
    "        # 3D plot\n",
    "        scene=dict(\n",
    "            xaxis=dict(xaxis),\n",
    "            yaxis=dict(yaxis),\n",
    "            zaxis=dict(zaxis)\n",
    "        )\n",
    "    )\n",
    "    fig.write_html(f\"/home/nico/Desktop/simulated_cluster.html\")"
   ]
  },
  {
   "cell_type": "code",
   "execution_count": 4,
   "id": "844a9186456c301a",
   "metadata": {
    "ExecuteTime": {
     "end_time": "2024-01-24T16:15:29.912385Z",
     "start_time": "2024-01-24T16:15:29.906116Z"
    },
    "collapsed": false
   },
   "outputs": [
    {
     "name": "stdout",
     "output_type": "stream",
     "text": [
      "Negative parallax values encountered, fixing values...\n"
     ]
    }
   ],
   "source": [
    "data_new, labels_true, df = generate_data()"
   ]
  },
  {
   "cell_type": "code",
   "execution_count": 13,
   "id": "85fc6e1f00f04e20",
   "metadata": {
    "collapsed": false
   },
   "outputs": [
    {
     "name": "stdout",
     "output_type": "stream",
     "text": [
      "Performing gradient ascend using a 15-NN density estimation.\n",
      "Updated significance threshold: 7.01e-04\n"
     ]
    },
    {
     "data": {
      "text/plain": [
       "' def produce_baseline(clusterer):\\n    _, p_values = clusterer.run_sigma(\\n        alpha=-np.inf, knn=15, return_pvalues=True\\n    )\\n    p_values = np.array(p_values)\\n    pv_sorted = np.sort(p_values[p_values < 0.05])\\n    # compute mid point between consecutive p-values\\n    mid_points = (pv_sorted[1:] + pv_sorted[:-1]) / 2\\n    # Compute vhat for first step\\n    clusterer.fit(alpha=0.05, knn=15, bh_correction=True)\\n    return mid_points, clusterer.labels_\\n\\nmid_points, l0 = produce_baseline(clusterer) '"
      ]
     },
     "execution_count": 13,
     "metadata": {},
     "output_type": "execute_result"
    }
   ],
   "source": [
    "cols2fit = ['X', 'Y', 'Z', 'U', 'V', 'W']\n",
    "sigma_kwargs = dict(\n",
    "    cluster_features=cols2fit,\n",
    "    scale_factors={'pos': {'features': ['U', 'V', 'W'], 'factor': [1, 5, 7]}},\n",
    "    # These are the default values and should be kept for now\n",
    "    nb_resampling=0, max_knn_density=101,\n",
    "    beta=0.99, knn_initcluster_graph=40,\n",
    "    transform_function=None\n",
    ")\n",
    "clusterer = SigMA(data=data_new, **sigma_kwargs).fit(alpha=0.01, knn=15, bh_correction=True)\n",
    "\n",
    "def produce_baseline(clusterer):\n",
    "    _, p_values = clusterer.run_sigma(\n",
    "        alpha=-np.inf, knn=15, return_pvalues=True\n",
    "    )\n",
    "    p_values = np.array(p_values)\n",
    "    pv_sorted = np.sort(p_values[p_values < 0.05])\n",
    "    # compute mid point between consecutive p-values\n",
    "    mid_points = (pv_sorted[1:] + pv_sorted[:-1]) / 2\n",
    "    # Compute vhat for first step\n",
    "    clusterer.fit(alpha=0.05, knn=15, bh_correction=True)\n",
    "    return mid_points, clusterer.labels_\n",
    "\n",
    "mid_points, l0 = produce_baseline(clusterer)"
   ]
  },
  {
   "cell_type": "code",
   "execution_count": 8,
   "id": "86330d6a",
   "metadata": {},
   "outputs": [],
   "source": [
    "clusterer_labels = pd.DataFrame(l0, columns=['iteration_0'])\n",
    "splits = {}"
   ]
  },
  {
   "cell_type": "code",
   "execution_count": 14,
   "id": "6a1fbcc4",
   "metadata": {},
   "outputs": [],
   "source": [
    "plot_3D_data(data_new, xyz_titles=['X', 'Y', 'Z'], ax_range=[-500, 500], labels=clusterer.labels_)"
   ]
  },
  {
   "cell_type": "code",
   "execution_count": 9,
   "id": "c77ffd3f",
   "metadata": {},
   "outputs": [
    {
     "name": "stdout",
     "output_type": "stream",
     "text": [
      "No new cluster\n",
      "2\n",
      "-------------------\n",
      "\n",
      "No new cluster\n",
      "3\n",
      "-------------------\n",
      "\n",
      "New cluster: 41202 coming from 80\n",
      "4\n",
      "-------------------\n",
      "\n",
      "New cluster: 31949 coming from 41202\n",
      "5\n",
      "-------------------\n",
      "\n",
      "New cluster: 16979 coming from 80\n",
      "6\n",
      "-------------------\n",
      "\n",
      "New cluster: 40497 coming from 16979\n",
      "7\n",
      "-------------------\n",
      "\n",
      "New cluster: 46624 coming from 31949\n",
      "8\n",
      "-------------------\n",
      "\n",
      "New cluster: 10796 coming from 80\n",
      "9\n",
      "-------------------\n",
      "\n",
      "New cluster: 16162 coming from 80\n",
      "10\n",
      "-------------------\n",
      "\n",
      "New cluster: 31710 coming from 41202\n",
      "11\n",
      "-------------------\n",
      "\n",
      "New cluster: 46344 coming from 80\n",
      "12\n",
      "-------------------\n",
      "\n",
      "New cluster: 46336 coming from 80\n",
      "13\n",
      "-------------------\n",
      "\n",
      "New cluster: 40495 coming from 41202\n",
      "14\n",
      "-------------------\n",
      "\n",
      "New cluster: 40978 coming from 41202\n",
      "15\n",
      "-------------------\n",
      "\n",
      "New cluster: 45243 coming from 16979\n",
      "16\n",
      "-------------------\n",
      "\n",
      "New cluster: 50087 coming from 16979\n",
      "17\n",
      "-------------------\n",
      "\n",
      "New cluster: 34157 coming from 40978\n",
      "18\n",
      "-------------------\n",
      "\n",
      "New cluster: 21380 coming from 40978\n",
      "19\n",
      "-------------------\n",
      "\n",
      "New cluster: 46755 coming from 40978\n",
      "20\n",
      "-------------------\n",
      "\n",
      "New cluster: 53400 coming from 80\n",
      "21\n",
      "-------------------\n",
      "\n",
      "New cluster: 29011 coming from 45243\n",
      "22\n",
      "-------------------\n",
      "\n",
      "New cluster: 53549 coming from 80\n",
      "23\n",
      "-------------------\n",
      "\n",
      "New cluster: 26568 coming from 46624\n",
      "24\n",
      "-------------------\n",
      "\n",
      "New cluster: 20051 coming from 41202\n",
      "25\n",
      "-------------------\n",
      "\n",
      "New cluster: 36923 coming from 31949\n",
      "26\n",
      "-------------------\n",
      "\n",
      "New cluster: 54079 coming from 53400\n",
      "27\n",
      "-------------------\n",
      "\n",
      "New cluster: 15785 coming from 80\n",
      "28\n",
      "-------------------\n",
      "\n"
     ]
    }
   ],
   "source": [
    "iteration = 1\n",
    "for alpha_i in mid_points:\n",
    "    # fit clusterer to new alpha\n",
    "    clusterer.fit(alpha=alpha_i, knn=15, bh_correction=False)\n",
    "    l_i = clusterer.labels_ \n",
    "    new_clusters_id = list(set(l_i) - set(l0))\n",
    "    clusterer_labels[f'iteration_{iteration}'] = l_i\n",
    "\n",
    "    if len(new_clusters_id) == 1: \n",
    "        # one new cluster was generated\n",
    "        nc_id = new_clusters_id[0]\n",
    "        part_of_old_cluster = mode(l0[l_i==nc_id], keepdims=False).mode\n",
    "        print(f'New cluster: {nc_id} coming from {part_of_old_cluster}')\n",
    "        splits[f'iteration_{iteration}'] = {\n",
    "            'new_cluster': nc_id,\n",
    "            'old_cluster': part_of_old_cluster,\n",
    "            'alpha': alpha_i\n",
    "        }\n",
    "        \n",
    "    elif len(new_clusters_id) > 1:\n",
    "        print('More than one new cluster')\n",
    "    else:\n",
    "        print('No new cluster')\n",
    "\n",
    "    l0 = np.copy(l_i)\n",
    "    iteration += 1\n",
    "    print(iteration)\n",
    "    print('-------------------\\n')"
   ]
  },
  {
   "cell_type": "markdown",
   "id": "a0147879",
   "metadata": {},
   "source": [
    "# Data Plotting"
   ]
  },
  {
   "cell_type": "code",
   "execution_count": 13,
   "id": "33978c0e",
   "metadata": {},
   "outputs": [
    {
     "data": {
      "text/plain": [
       "array([ 0,  0,  0, ..., -1, -1, -1])"
      ]
     },
     "execution_count": 13,
     "metadata": {},
     "output_type": "execute_result"
    }
   ],
   "source": [
    "labels_true"
   ]
  },
  {
   "cell_type": "code",
   "execution_count": 27,
   "id": "e010e74a",
   "metadata": {},
   "outputs": [
    {
     "data": {
      "text/plain": [
       "{'iteration_3': {'new_cluster': 41202,\n",
       "  'old_cluster': 80,\n",
       "  'alpha': 5.11329811825334e-10},\n",
       " 'iteration_4': {'new_cluster': 31949,\n",
       "  'old_cluster': 41202,\n",
       "  'alpha': 4.643816626698216e-05},\n",
       " 'iteration_5': {'new_cluster': 16979,\n",
       "  'old_cluster': 80,\n",
       "  'alpha': 0.0001987753436394346},\n",
       " 'iteration_6': {'new_cluster': 40497,\n",
       "  'old_cluster': 16979,\n",
       "  'alpha': 0.0030160988117030607},\n",
       " 'iteration_7': {'new_cluster': 46624,\n",
       "  'old_cluster': 31949,\n",
       "  'alpha': 0.005852683999629238},\n",
       " 'iteration_8': {'new_cluster': 10796,\n",
       "  'old_cluster': 80,\n",
       "  'alpha': 0.006586604070697222},\n",
       " 'iteration_9': {'new_cluster': 16162,\n",
       "  'old_cluster': 80,\n",
       "  'alpha': 0.00729363315550835},\n",
       " 'iteration_10': {'new_cluster': 31710,\n",
       "  'old_cluster': 41202,\n",
       "  'alpha': 0.007579220372674111},\n",
       " 'iteration_11': {'new_cluster': 46344,\n",
       "  'old_cluster': 80,\n",
       "  'alpha': 0.008155052579305933},\n",
       " 'iteration_12': {'new_cluster': 46336,\n",
       "  'old_cluster': 80,\n",
       "  'alpha': 0.010267512827059955},\n",
       " 'iteration_13': {'new_cluster': 40495,\n",
       "  'old_cluster': 41202,\n",
       "  'alpha': 0.013898778121517297},\n",
       " 'iteration_14': {'new_cluster': 40978,\n",
       "  'old_cluster': 41202,\n",
       "  'alpha': 0.016469914041355227},\n",
       " 'iteration_15': {'new_cluster': 45243,\n",
       "  'old_cluster': 16979,\n",
       "  'alpha': 0.018753545695560536},\n",
       " 'iteration_16': {'new_cluster': 50087,\n",
       "  'old_cluster': 16979,\n",
       "  'alpha': 0.021210271520824997},\n",
       " 'iteration_17': {'new_cluster': 34157,\n",
       "  'old_cluster': 40978,\n",
       "  'alpha': 0.023776878956552394},\n",
       " 'iteration_18': {'new_cluster': 21380,\n",
       "  'old_cluster': 40978,\n",
       "  'alpha': 0.028162115019642664},\n",
       " 'iteration_19': {'new_cluster': 46755,\n",
       "  'old_cluster': 40978,\n",
       "  'alpha': 0.03186861593681828},\n",
       " 'iteration_20': {'new_cluster': 53400,\n",
       "  'old_cluster': 80,\n",
       "  'alpha': 0.0332079417164069},\n",
       " 'iteration_21': {'new_cluster': 29011,\n",
       "  'old_cluster': 45243,\n",
       "  'alpha': 0.03520629647614826},\n",
       " 'iteration_22': {'new_cluster': 53549,\n",
       "  'old_cluster': 80,\n",
       "  'alpha': 0.03733559945091014},\n",
       " 'iteration_23': {'new_cluster': 26568,\n",
       "  'old_cluster': 46624,\n",
       "  'alpha': 0.03850762430895349},\n",
       " 'iteration_24': {'new_cluster': 20051,\n",
       "  'old_cluster': 41202,\n",
       "  'alpha': 0.03997912502748746},\n",
       " 'iteration_25': {'new_cluster': 36923,\n",
       "  'old_cluster': 31949,\n",
       "  'alpha': 0.040967524164189806},\n",
       " 'iteration_26': {'new_cluster': 54079,\n",
       "  'old_cluster': 53400,\n",
       "  'alpha': 0.04201080322185108},\n",
       " 'iteration_27': {'new_cluster': 15785,\n",
       "  'old_cluster': 80,\n",
       "  'alpha': 0.0458694847603775}}"
      ]
     },
     "execution_count": 27,
     "metadata": {},
     "output_type": "execute_result"
    }
   ],
   "source": [
    "splits"
   ]
  },
  {
   "cell_type": "code",
   "execution_count": 33,
   "id": "2689e4f4",
   "metadata": {},
   "outputs": [],
   "source": [
    "import matplotlib.pyplot as plt\n",
    "\n",
    "def dense_sample(rho):\n",
    "    \"\"\"Extract the densest points from the density distribution.\"\"\"\n",
    "    mad = np.median(np.abs(rho - np.median(rho)))\n",
    "    threshold = np.median(rho) * 0.995 + 3 * mad * 1.1\n",
    "    if np.sum(rho > threshold) < 20:\n",
    "        threshold = np.percentile(rho, 93)\n",
    "    return rho > threshold\n",
    "\n",
    "# plotting the clustered labels according to their true cluster\n",
    "for split in splits:\n",
    "    old_cluster = splits[split]['old_cluster']\n",
    "    new_cluster = splits[split]['new_cluster']\n",
    "\n",
    "    fig, ax = plt.subplots(1, 2, figsize=(10, 5))\n",
    "    for i, cluster in enumerate([old_cluster, new_cluster]):\n",
    "        # get the dense core\n",
    "        rho = clusterer.weights_[clusterer_labels[split] == cluster]\n",
    "        dense_core = dense_sample(rho)\n",
    "        # plot the dense core\n",
    "        labels, counts = np.unique(labels_true[clusterer_labels[split] == cluster][dense_core], return_counts=True)\n",
    "        ax[i].bar(labels, counts)\n",
    "\n",
    "    plt.close()\n",
    "    fig.savefig(f'/home/nico/Desktop/split_{split}.png')"
   ]
  },
  {
   "cell_type": "markdown",
   "id": "e5e62e10592c395",
   "metadata": {
    "collapsed": false
   },
   "source": [
    "# Get UVW uncertainties"
   ]
  },
  {
   "cell_type": "code",
   "execution_count": 11,
   "id": "9fac149187e54554",
   "metadata": {
    "ExecuteTime": {
     "end_time": "2024-01-23T17:46:30.469615Z",
     "start_time": "2024-01-23T17:46:30.466710Z"
    },
    "collapsed": false
   },
   "outputs": [
    {
     "data": {
      "text/plain": [
       "(1000, 3, 3)"
      ]
     },
     "execution_count": 11,
     "metadata": {},
     "output_type": "execute_result"
    }
   ],
   "source": [
    "# Get UVW of densest component\n",
    "c_vel = ['U', 'V', 'W']\n",
    "X = data_new[c_vel]\n",
    "C = err_sampler.C[:, 3:, 3:]\n",
    "C.shape"
   ]
  },
  {
   "cell_type": "code",
   "execution_count": 12,
   "id": "97394e6ad76d2af6",
   "metadata": {
    "ExecuteTime": {
     "end_time": "2024-01-23T17:46:31.112135Z",
     "start_time": "2024-01-23T17:46:31.103874Z"
    },
    "collapsed": false
   },
   "outputs": [],
   "source": [
    "ra, dec, plx, _, _, _ = ErrorSampler().cart2spher(data_new[cols].values)\n",
    "# Compute covariance matrix in Galactic coordinates\n",
    "C_uvw = transform_covariance_shper2gal(ra, dec, plx, C) "
   ]
  },
  {
   "cell_type": "code",
   "execution_count": 33,
   "id": "f7d29906a1d40798",
   "metadata": {
    "ExecuteTime": {
     "end_time": "2024-01-23T17:48:44.135491Z",
     "start_time": "2024-01-23T17:48:43.747106Z"
    },
    "collapsed": false
   },
   "outputs": [
    {
     "name": "stdout",
     "output_type": "stream",
     "text": [
      "CPU times: user 1.11 s, sys: 8.55 ms, total: 1.12 s\n",
      "Wall time: 386 ms\n"
     ]
    }
   ],
   "source": [
    "%%time\n",
    "xd = XDSingleCluster(max_iter=200, tol=1e-3).fit(X.values, C_uvw)"
   ]
  },
  {
   "cell_type": "code",
   "execution_count": 34,
   "id": "629975249062b2a7",
   "metadata": {
    "ExecuteTime": {
     "end_time": "2024-01-23T17:48:44.641319Z",
     "start_time": "2024-01-23T17:48:44.636581Z"
    },
    "collapsed": false
   },
   "outputs": [
    {
     "data": {
      "text/plain": [
       "(array([[[ 4.09500036, -0.74012688,  0.12818122],\n",
       "         [-0.74012688,  4.57595199,  0.34765216],\n",
       "         [ 0.12818122,  0.34765216,  4.16556263]]]),\n",
       " array([[[ 4.06372913, -0.75302132,  0.11959895],\n",
       "         [-0.75302132,  4.57064204,  0.34411419],\n",
       "         [ 0.11959895,  0.34411419,  4.16333885]]]),\n",
       " array([[4, 0, 0],\n",
       "        [0, 4, 0],\n",
       "        [0, 0, 4]]))"
      ]
     },
     "execution_count": 34,
     "metadata": {},
     "output_type": "execute_result"
    }
   ],
   "source": [
    "xd.V"
   ]
  },
  {
   "cell_type": "code",
   "execution_count": null,
   "id": "5d343b9e9fdca610",
   "metadata": {
    "collapsed": false
   },
   "outputs": [],
   "source": []
  }
 ],
 "metadata": {
  "kernelspec": {
   "display_name": "Python 3",
   "language": "python",
   "name": "python3"
  },
  "language_info": {
   "codemirror_mode": {
    "name": "ipython",
    "version": 3
   },
   "file_extension": ".py",
   "mimetype": "text/x-python",
   "name": "python",
   "nbconvert_exporter": "python",
   "pygments_lexer": "ipython3",
   "version": "3.9.13"
  }
 },
 "nbformat": 4,
 "nbformat_minor": 5
}
